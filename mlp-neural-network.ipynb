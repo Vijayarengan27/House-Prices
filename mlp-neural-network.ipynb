{
 "cells": [
  {
   "cell_type": "code",
   "execution_count": 1,
   "metadata": {
    "_cell_guid": "b1076dfc-b9ad-4769-8c92-a6c4dae69d19",
    "_uuid": "8f2839f25d086af736a60e9eeb907d3b93b6e0e5"
   },
   "outputs": [],
   "source": [
    "# This Python 3 environment comes with many helpful analytics libraries installed\n",
    "# It is defined by the kaggle/python Docker image: https://github.com/kaggle/docker-python\n",
    "# For example, here's several helpful packages to load\n",
    "\n",
    "import numpy as np # linear algebra\n",
    "import pandas as pd # data processing, CSV file I/O (e.g. pd.read_csv)\n",
    "\n",
    "# Input data files are available in the read-only \"../input/\" directory\n",
    "# For example, running this (by clicking run or pressing Shift+Enter) will list all files under the input directory\n",
    "\n",
    "import os\n",
    "for dirname, _, filenames in os.walk('/kaggle/input'):\n",
    "    for filename in filenames:\n",
    "        print(os.path.join(dirname, filename))\n",
    "\n",
    "# You can write up to 20GB to the current directory (/kaggle/working/) that gets preserved as output when you create a version using \"Save & Run All\" \n",
    "# You can also write temporary files to /kaggle/temp/, but they won't be saved outside of the current session"
   ]
  },
  {
   "cell_type": "code",
   "execution_count": 2,
   "metadata": {
    "_cell_guid": "79c7e3d0-c299-4dcb-8224-4455121ee9b0",
    "_uuid": "d629ff2d2480ee46fbb7e2d37f6b5fab8052498a"
   },
   "outputs": [],
   "source": [
    "train = pd.read_csv(\"train.csv\")\n",
    "test = pd.read_csv(\"test.csv\")"
   ]
  },
  {
   "cell_type": "code",
   "execution_count": 3,
   "metadata": {},
   "outputs": [
    {
     "data": {
      "text/plain": [
       "(1460, 81)"
      ]
     },
     "execution_count": 3,
     "metadata": {},
     "output_type": "execute_result"
    }
   ],
   "source": [
    "train.shape"
   ]
  },
  {
   "cell_type": "code",
   "execution_count": 4,
   "metadata": {},
   "outputs": [],
   "source": [
    "i = train.select_dtypes(exclude= np.number)\n",
    "j = list(i.columns)"
   ]
  },
  {
   "cell_type": "code",
   "execution_count": 5,
   "metadata": {},
   "outputs": [],
   "source": [
    "for col in j:\n",
    "    train = train.drop(col,axis = 1)\n",
    "    test = test.drop(col,axis = 1)"
   ]
  },
  {
   "cell_type": "code",
   "execution_count": 6,
   "metadata": {},
   "outputs": [
    {
     "data": {
      "text/plain": [
       "(1460, 38)"
      ]
     },
     "execution_count": 6,
     "metadata": {},
     "output_type": "execute_result"
    }
   ],
   "source": [
    "train.shape"
   ]
  },
  {
   "cell_type": "code",
   "execution_count": 7,
   "metadata": {},
   "outputs": [
    {
     "data": {
      "text/plain": [
       "['LotFrontage', 'MasVnrArea', 'GarageYrBlt']"
      ]
     },
     "execution_count": 7,
     "metadata": {},
     "output_type": "execute_result"
    }
   ],
   "source": [
    "a = train.columns[train.isna().any()].tolist()\n",
    "a"
   ]
  },
  {
   "cell_type": "code",
   "execution_count": 8,
   "metadata": {},
   "outputs": [],
   "source": [
    "for i in a:\n",
    "    train[i] = np.where(train[i].isna(), train[i].median,train[i])"
   ]
  },
  {
   "cell_type": "code",
   "execution_count": 9,
   "metadata": {},
   "outputs": [
    {
     "data": {
      "text/plain": [
       "Id               0\n",
       "MSSubClass       0\n",
       "LotFrontage      0\n",
       "LotArea          0\n",
       "OverallQual      0\n",
       "OverallCond      0\n",
       "YearBuilt        0\n",
       "YearRemodAdd     0\n",
       "MasVnrArea       0\n",
       "BsmtFinSF1       0\n",
       "BsmtFinSF2       0\n",
       "BsmtUnfSF        0\n",
       "TotalBsmtSF      0\n",
       "1stFlrSF         0\n",
       "2ndFlrSF         0\n",
       "LowQualFinSF     0\n",
       "GrLivArea        0\n",
       "BsmtFullBath     0\n",
       "BsmtHalfBath     0\n",
       "FullBath         0\n",
       "HalfBath         0\n",
       "BedroomAbvGr     0\n",
       "KitchenAbvGr     0\n",
       "TotRmsAbvGrd     0\n",
       "Fireplaces       0\n",
       "GarageYrBlt      0\n",
       "GarageCars       0\n",
       "GarageArea       0\n",
       "WoodDeckSF       0\n",
       "OpenPorchSF      0\n",
       "EnclosedPorch    0\n",
       "3SsnPorch        0\n",
       "ScreenPorch      0\n",
       "PoolArea         0\n",
       "MiscVal          0\n",
       "MoSold           0\n",
       "YrSold           0\n",
       "SalePrice        0\n",
       "dtype: int64"
      ]
     },
     "execution_count": 9,
     "metadata": {},
     "output_type": "execute_result"
    }
   ],
   "source": [
    "train.isna().sum()"
   ]
  },
  {
   "cell_type": "code",
   "execution_count": 10,
   "metadata": {},
   "outputs": [
    {
     "data": {
      "text/plain": [
       "['LotFrontage',\n",
       " 'MasVnrArea',\n",
       " 'BsmtFinSF1',\n",
       " 'BsmtFinSF2',\n",
       " 'BsmtUnfSF',\n",
       " 'TotalBsmtSF',\n",
       " 'BsmtFullBath',\n",
       " 'BsmtHalfBath',\n",
       " 'GarageYrBlt',\n",
       " 'GarageCars',\n",
       " 'GarageArea']"
      ]
     },
     "execution_count": 10,
     "metadata": {},
     "output_type": "execute_result"
    }
   ],
   "source": [
    "b = test.columns[test.isna().any()].tolist()\n",
    "b"
   ]
  },
  {
   "cell_type": "code",
   "execution_count": 11,
   "metadata": {},
   "outputs": [],
   "source": [
    "for i in b:\n",
    "    test[i] = np.where(test[i].isna(),test[i].median(),test[i])\n",
    "    "
   ]
  },
  {
   "cell_type": "code",
   "execution_count": 12,
   "metadata": {},
   "outputs": [
    {
     "data": {
      "text/plain": [
       "Id               0\n",
       "MSSubClass       0\n",
       "LotFrontage      0\n",
       "LotArea          0\n",
       "OverallQual      0\n",
       "OverallCond      0\n",
       "YearBuilt        0\n",
       "YearRemodAdd     0\n",
       "MasVnrArea       0\n",
       "BsmtFinSF1       0\n",
       "BsmtFinSF2       0\n",
       "BsmtUnfSF        0\n",
       "TotalBsmtSF      0\n",
       "1stFlrSF         0\n",
       "2ndFlrSF         0\n",
       "LowQualFinSF     0\n",
       "GrLivArea        0\n",
       "BsmtFullBath     0\n",
       "BsmtHalfBath     0\n",
       "FullBath         0\n",
       "HalfBath         0\n",
       "BedroomAbvGr     0\n",
       "KitchenAbvGr     0\n",
       "TotRmsAbvGrd     0\n",
       "Fireplaces       0\n",
       "GarageYrBlt      0\n",
       "GarageCars       0\n",
       "GarageArea       0\n",
       "WoodDeckSF       0\n",
       "OpenPorchSF      0\n",
       "EnclosedPorch    0\n",
       "3SsnPorch        0\n",
       "ScreenPorch      0\n",
       "PoolArea         0\n",
       "MiscVal          0\n",
       "MoSold           0\n",
       "YrSold           0\n",
       "dtype: int64"
      ]
     },
     "execution_count": 12,
     "metadata": {},
     "output_type": "execute_result"
    }
   ],
   "source": [
    "test.isna().sum()"
   ]
  },
  {
   "cell_type": "code",
   "execution_count": 13,
   "metadata": {},
   "outputs": [
    {
     "data": {
      "text/plain": [
       "<bound method NDFrame.describe of       MSSubClass  LotFrontage  LotArea  OverallQual  OverallCond  YearBuilt  \\\n",
       "0             20         80.0    11622            5            6       1961   \n",
       "1             20         81.0    14267            6            6       1958   \n",
       "2             60         74.0    13830            5            5       1997   \n",
       "3             60         78.0     9978            6            6       1998   \n",
       "4            120         43.0     5005            8            5       1992   \n",
       "...          ...          ...      ...          ...          ...        ...   \n",
       "1454         160         21.0     1936            4            7       1970   \n",
       "1455         160         21.0     1894            4            5       1970   \n",
       "1456          20        160.0    20000            5            7       1960   \n",
       "1457          85         62.0    10441            5            5       1992   \n",
       "1458          60         74.0     9627            7            5       1993   \n",
       "\n",
       "      YearRemodAdd  MasVnrArea  BsmtFinSF1  BsmtFinSF2  ...  GarageArea  \\\n",
       "0             1961         0.0       468.0       144.0  ...       730.0   \n",
       "1             1958       108.0       923.0         0.0  ...       312.0   \n",
       "2             1998         0.0       791.0         0.0  ...       482.0   \n",
       "3             1998        20.0       602.0         0.0  ...       470.0   \n",
       "4             1992         0.0       263.0         0.0  ...       506.0   \n",
       "...            ...         ...         ...         ...  ...         ...   \n",
       "1454          1970         0.0         0.0         0.0  ...         0.0   \n",
       "1455          1970         0.0       252.0         0.0  ...       286.0   \n",
       "1456          1996         0.0      1224.0         0.0  ...       576.0   \n",
       "1457          1992         0.0       337.0         0.0  ...         0.0   \n",
       "1458          1994        94.0       758.0         0.0  ...       650.0   \n",
       "\n",
       "      WoodDeckSF  OpenPorchSF  EnclosedPorch  3SsnPorch  ScreenPorch  \\\n",
       "0            140            0              0          0          120   \n",
       "1            393           36              0          0            0   \n",
       "2            212           34              0          0            0   \n",
       "3            360           36              0          0            0   \n",
       "4              0           82              0          0          144   \n",
       "...          ...          ...            ...        ...          ...   \n",
       "1454           0            0              0          0            0   \n",
       "1455           0           24              0          0            0   \n",
       "1456         474            0              0          0            0   \n",
       "1457          80           32              0          0            0   \n",
       "1458         190           48              0          0            0   \n",
       "\n",
       "      PoolArea  MiscVal  MoSold  YrSold  \n",
       "0            0        0       6    2010  \n",
       "1            0    12500       6    2010  \n",
       "2            0        0       3    2010  \n",
       "3            0        0       6    2010  \n",
       "4            0        0       1    2010  \n",
       "...        ...      ...     ...     ...  \n",
       "1454         0        0       6    2006  \n",
       "1455         0        0       4    2006  \n",
       "1456         0        0       9    2006  \n",
       "1457         0      700       7    2006  \n",
       "1458         0        0      11    2006  \n",
       "\n",
       "[1459 rows x 36 columns]>"
      ]
     },
     "execution_count": 13,
     "metadata": {},
     "output_type": "execute_result"
    }
   ],
   "source": [
    "test = test.drop('Id',axis =1)\n",
    "test.describe"
   ]
  },
  {
   "cell_type": "code",
   "execution_count": 14,
   "metadata": {},
   "outputs": [
    {
     "data": {
      "text/plain": [
       "<bound method NDFrame.describe of       MSSubClass LotFrontage  LotArea  OverallQual  OverallCond  YearBuilt  \\\n",
       "0             60          65     8450            7            5       2003   \n",
       "1             20          80     9600            6            8       1976   \n",
       "2             60          68    11250            7            5       2001   \n",
       "3             70          60     9550            7            5       1915   \n",
       "4             60          84    14260            8            5       2000   \n",
       "...          ...         ...      ...          ...          ...        ...   \n",
       "1455          60          62     7917            6            5       1999   \n",
       "1456          20          85    13175            6            6       1978   \n",
       "1457          70          66     9042            7            9       1941   \n",
       "1458          20          68     9717            5            6       1950   \n",
       "1459          20          75     9937            5            6       1965   \n",
       "\n",
       "      YearRemodAdd MasVnrArea  BsmtFinSF1  BsmtFinSF2  ...  GarageArea  \\\n",
       "0             2003        196         706           0  ...         548   \n",
       "1             1976          0         978           0  ...         460   \n",
       "2             2002        162         486           0  ...         608   \n",
       "3             1970          0         216           0  ...         642   \n",
       "4             2000        350         655           0  ...         836   \n",
       "...            ...        ...         ...         ...  ...         ...   \n",
       "1455          2000          0           0           0  ...         460   \n",
       "1456          1988        119         790         163  ...         500   \n",
       "1457          2006          0         275           0  ...         252   \n",
       "1458          1996          0          49        1029  ...         240   \n",
       "1459          1965          0         830         290  ...         276   \n",
       "\n",
       "      WoodDeckSF  OpenPorchSF  EnclosedPorch  3SsnPorch  ScreenPorch  \\\n",
       "0              0           61              0          0            0   \n",
       "1            298            0              0          0            0   \n",
       "2              0           42              0          0            0   \n",
       "3              0           35            272          0            0   \n",
       "4            192           84              0          0            0   \n",
       "...          ...          ...            ...        ...          ...   \n",
       "1455           0           40              0          0            0   \n",
       "1456         349            0              0          0            0   \n",
       "1457           0           60              0          0            0   \n",
       "1458         366            0            112          0            0   \n",
       "1459         736           68              0          0            0   \n",
       "\n",
       "      PoolArea  MiscVal  MoSold  YrSold  \n",
       "0            0        0       2    2008  \n",
       "1            0        0       5    2007  \n",
       "2            0        0       9    2008  \n",
       "3            0        0       2    2006  \n",
       "4            0        0      12    2008  \n",
       "...        ...      ...     ...     ...  \n",
       "1455         0        0       8    2007  \n",
       "1456         0        0       2    2010  \n",
       "1457         0     2500       5    2010  \n",
       "1458         0        0       4    2010  \n",
       "1459         0        0       6    2008  \n",
       "\n",
       "[1460 rows x 36 columns]>"
      ]
     },
     "execution_count": 14,
     "metadata": {},
     "output_type": "execute_result"
    }
   ],
   "source": [
    "y = train['SalePrice']\n",
    "x = train.drop('SalePrice',axis = 1)\n",
    "x = x.drop('Id',axis = 1)\n",
    "x.describe"
   ]
  },
  {
   "cell_type": "code",
   "execution_count": 15,
   "metadata": {},
   "outputs": [
    {
     "data": {
      "text/plain": [
       "['LotFrontage', 'MasVnrArea', 'GarageYrBlt']"
      ]
     },
     "execution_count": 15,
     "metadata": {},
     "output_type": "execute_result"
    }
   ],
   "source": [
    "a = x.describe(exclude = np.number).columns.tolist()\n",
    "a\n"
   ]
  },
  {
   "cell_type": "code",
   "execution_count": 16,
   "metadata": {},
   "outputs": [],
   "source": [
    "for i in a:\n",
    "    x = x.drop(i,axis = 1)\n",
    "    test = test.drop(i,axis = 1)"
   ]
  },
  {
   "cell_type": "code",
   "execution_count": 17,
   "metadata": {},
   "outputs": [
    {
     "data": {
      "text/plain": [
       "<bound method NDFrame.describe of       MSSubClass  LotArea  OverallQual  OverallCond  YearBuilt  YearRemodAdd  \\\n",
       "0             60     8450            7            5       2003          2003   \n",
       "1             20     9600            6            8       1976          1976   \n",
       "2             60    11250            7            5       2001          2002   \n",
       "3             70     9550            7            5       1915          1970   \n",
       "4             60    14260            8            5       2000          2000   \n",
       "...          ...      ...          ...          ...        ...           ...   \n",
       "1455          60     7917            6            5       1999          2000   \n",
       "1456          20    13175            6            6       1978          1988   \n",
       "1457          70     9042            7            9       1941          2006   \n",
       "1458          20     9717            5            6       1950          1996   \n",
       "1459          20     9937            5            6       1965          1965   \n",
       "\n",
       "      BsmtFinSF1  BsmtFinSF2  BsmtUnfSF  TotalBsmtSF  ...  GarageArea  \\\n",
       "0            706           0        150          856  ...         548   \n",
       "1            978           0        284         1262  ...         460   \n",
       "2            486           0        434          920  ...         608   \n",
       "3            216           0        540          756  ...         642   \n",
       "4            655           0        490         1145  ...         836   \n",
       "...          ...         ...        ...          ...  ...         ...   \n",
       "1455           0           0        953          953  ...         460   \n",
       "1456         790         163        589         1542  ...         500   \n",
       "1457         275           0        877         1152  ...         252   \n",
       "1458          49        1029          0         1078  ...         240   \n",
       "1459         830         290        136         1256  ...         276   \n",
       "\n",
       "      WoodDeckSF  OpenPorchSF  EnclosedPorch  3SsnPorch  ScreenPorch  \\\n",
       "0              0           61              0          0            0   \n",
       "1            298            0              0          0            0   \n",
       "2              0           42              0          0            0   \n",
       "3              0           35            272          0            0   \n",
       "4            192           84              0          0            0   \n",
       "...          ...          ...            ...        ...          ...   \n",
       "1455           0           40              0          0            0   \n",
       "1456         349            0              0          0            0   \n",
       "1457           0           60              0          0            0   \n",
       "1458         366            0            112          0            0   \n",
       "1459         736           68              0          0            0   \n",
       "\n",
       "      PoolArea  MiscVal  MoSold  YrSold  \n",
       "0            0        0       2    2008  \n",
       "1            0        0       5    2007  \n",
       "2            0        0       9    2008  \n",
       "3            0        0       2    2006  \n",
       "4            0        0      12    2008  \n",
       "...        ...      ...     ...     ...  \n",
       "1455         0        0       8    2007  \n",
       "1456         0        0       2    2010  \n",
       "1457         0     2500       5    2010  \n",
       "1458         0        0       4    2010  \n",
       "1459         0        0       6    2008  \n",
       "\n",
       "[1460 rows x 33 columns]>"
      ]
     },
     "execution_count": 17,
     "metadata": {},
     "output_type": "execute_result"
    }
   ],
   "source": [
    "x.describe"
   ]
  },
  {
   "cell_type": "code",
   "execution_count": 18,
   "metadata": {},
   "outputs": [
    {
     "data": {
      "text/plain": [
       "<bound method NDFrame.describe of       MSSubClass  LotArea  OverallQual  OverallCond  YearBuilt  YearRemodAdd  \\\n",
       "0             20    11622            5            6       1961          1961   \n",
       "1             20    14267            6            6       1958          1958   \n",
       "2             60    13830            5            5       1997          1998   \n",
       "3             60     9978            6            6       1998          1998   \n",
       "4            120     5005            8            5       1992          1992   \n",
       "...          ...      ...          ...          ...        ...           ...   \n",
       "1454         160     1936            4            7       1970          1970   \n",
       "1455         160     1894            4            5       1970          1970   \n",
       "1456          20    20000            5            7       1960          1996   \n",
       "1457          85    10441            5            5       1992          1992   \n",
       "1458          60     9627            7            5       1993          1994   \n",
       "\n",
       "      BsmtFinSF1  BsmtFinSF2  BsmtUnfSF  TotalBsmtSF  ...  GarageArea  \\\n",
       "0          468.0       144.0      270.0        882.0  ...       730.0   \n",
       "1          923.0         0.0      406.0       1329.0  ...       312.0   \n",
       "2          791.0         0.0      137.0        928.0  ...       482.0   \n",
       "3          602.0         0.0      324.0        926.0  ...       470.0   \n",
       "4          263.0         0.0     1017.0       1280.0  ...       506.0   \n",
       "...          ...         ...        ...          ...  ...         ...   \n",
       "1454         0.0         0.0      546.0        546.0  ...         0.0   \n",
       "1455       252.0         0.0      294.0        546.0  ...       286.0   \n",
       "1456      1224.0         0.0        0.0       1224.0  ...       576.0   \n",
       "1457       337.0         0.0      575.0        912.0  ...         0.0   \n",
       "1458       758.0         0.0      238.0        996.0  ...       650.0   \n",
       "\n",
       "      WoodDeckSF  OpenPorchSF  EnclosedPorch  3SsnPorch  ScreenPorch  \\\n",
       "0            140            0              0          0          120   \n",
       "1            393           36              0          0            0   \n",
       "2            212           34              0          0            0   \n",
       "3            360           36              0          0            0   \n",
       "4              0           82              0          0          144   \n",
       "...          ...          ...            ...        ...          ...   \n",
       "1454           0            0              0          0            0   \n",
       "1455           0           24              0          0            0   \n",
       "1456         474            0              0          0            0   \n",
       "1457          80           32              0          0            0   \n",
       "1458         190           48              0          0            0   \n",
       "\n",
       "      PoolArea  MiscVal  MoSold  YrSold  \n",
       "0            0        0       6    2010  \n",
       "1            0    12500       6    2010  \n",
       "2            0        0       3    2010  \n",
       "3            0        0       6    2010  \n",
       "4            0        0       1    2010  \n",
       "...        ...      ...     ...     ...  \n",
       "1454         0        0       6    2006  \n",
       "1455         0        0       4    2006  \n",
       "1456         0        0       9    2006  \n",
       "1457         0      700       7    2006  \n",
       "1458         0        0      11    2006  \n",
       "\n",
       "[1459 rows x 33 columns]>"
      ]
     },
     "execution_count": 18,
     "metadata": {},
     "output_type": "execute_result"
    }
   ],
   "source": [
    "test.describe"
   ]
  },
  {
   "cell_type": "code",
   "execution_count": 19,
   "metadata": {},
   "outputs": [],
   "source": [
    "x_n = np.array(x)\n",
    "y_n = np.array(y)\n",
    "test_n = np.array(test)"
   ]
  },
  {
   "cell_type": "code",
   "execution_count": 20,
   "metadata": {},
   "outputs": [
    {
     "name": "stderr",
     "output_type": "stream",
     "text": [
      "Using TensorFlow backend.\n",
      "C:\\Users\\Brandon Voigt\\Anaconda3\\lib\\site-packages\\tensorflow\\python\\framework\\dtypes.py:516: FutureWarning: Passing (type, 1) or '1type' as a synonym of type is deprecated; in a future version of numpy, it will be understood as (type, (1,)) / '(1,)type'.\n",
      "  _np_qint8 = np.dtype([(\"qint8\", np.int8, 1)])\n",
      "C:\\Users\\Brandon Voigt\\Anaconda3\\lib\\site-packages\\tensorflow\\python\\framework\\dtypes.py:517: FutureWarning: Passing (type, 1) or '1type' as a synonym of type is deprecated; in a future version of numpy, it will be understood as (type, (1,)) / '(1,)type'.\n",
      "  _np_quint8 = np.dtype([(\"quint8\", np.uint8, 1)])\n",
      "C:\\Users\\Brandon Voigt\\Anaconda3\\lib\\site-packages\\tensorflow\\python\\framework\\dtypes.py:518: FutureWarning: Passing (type, 1) or '1type' as a synonym of type is deprecated; in a future version of numpy, it will be understood as (type, (1,)) / '(1,)type'.\n",
      "  _np_qint16 = np.dtype([(\"qint16\", np.int16, 1)])\n",
      "C:\\Users\\Brandon Voigt\\Anaconda3\\lib\\site-packages\\tensorflow\\python\\framework\\dtypes.py:519: FutureWarning: Passing (type, 1) or '1type' as a synonym of type is deprecated; in a future version of numpy, it will be understood as (type, (1,)) / '(1,)type'.\n",
      "  _np_quint16 = np.dtype([(\"quint16\", np.uint16, 1)])\n",
      "C:\\Users\\Brandon Voigt\\Anaconda3\\lib\\site-packages\\tensorflow\\python\\framework\\dtypes.py:520: FutureWarning: Passing (type, 1) or '1type' as a synonym of type is deprecated; in a future version of numpy, it will be understood as (type, (1,)) / '(1,)type'.\n",
      "  _np_qint32 = np.dtype([(\"qint32\", np.int32, 1)])\n",
      "C:\\Users\\Brandon Voigt\\Anaconda3\\lib\\site-packages\\tensorflow\\python\\framework\\dtypes.py:525: FutureWarning: Passing (type, 1) or '1type' as a synonym of type is deprecated; in a future version of numpy, it will be understood as (type, (1,)) / '(1,)type'.\n",
      "  np_resource = np.dtype([(\"resource\", np.ubyte, 1)])\n",
      "C:\\Users\\Brandon Voigt\\Anaconda3\\lib\\site-packages\\tensorboard\\compat\\tensorflow_stub\\dtypes.py:541: FutureWarning: Passing (type, 1) or '1type' as a synonym of type is deprecated; in a future version of numpy, it will be understood as (type, (1,)) / '(1,)type'.\n",
      "  _np_qint8 = np.dtype([(\"qint8\", np.int8, 1)])\n",
      "C:\\Users\\Brandon Voigt\\Anaconda3\\lib\\site-packages\\tensorboard\\compat\\tensorflow_stub\\dtypes.py:542: FutureWarning: Passing (type, 1) or '1type' as a synonym of type is deprecated; in a future version of numpy, it will be understood as (type, (1,)) / '(1,)type'.\n",
      "  _np_quint8 = np.dtype([(\"quint8\", np.uint8, 1)])\n",
      "C:\\Users\\Brandon Voigt\\Anaconda3\\lib\\site-packages\\tensorboard\\compat\\tensorflow_stub\\dtypes.py:543: FutureWarning: Passing (type, 1) or '1type' as a synonym of type is deprecated; in a future version of numpy, it will be understood as (type, (1,)) / '(1,)type'.\n",
      "  _np_qint16 = np.dtype([(\"qint16\", np.int16, 1)])\n",
      "C:\\Users\\Brandon Voigt\\Anaconda3\\lib\\site-packages\\tensorboard\\compat\\tensorflow_stub\\dtypes.py:544: FutureWarning: Passing (type, 1) or '1type' as a synonym of type is deprecated; in a future version of numpy, it will be understood as (type, (1,)) / '(1,)type'.\n",
      "  _np_quint16 = np.dtype([(\"quint16\", np.uint16, 1)])\n",
      "C:\\Users\\Brandon Voigt\\Anaconda3\\lib\\site-packages\\tensorboard\\compat\\tensorflow_stub\\dtypes.py:545: FutureWarning: Passing (type, 1) or '1type' as a synonym of type is deprecated; in a future version of numpy, it will be understood as (type, (1,)) / '(1,)type'.\n",
      "  _np_qint32 = np.dtype([(\"qint32\", np.int32, 1)])\n",
      "C:\\Users\\Brandon Voigt\\Anaconda3\\lib\\site-packages\\tensorboard\\compat\\tensorflow_stub\\dtypes.py:550: FutureWarning: Passing (type, 1) or '1type' as a synonym of type is deprecated; in a future version of numpy, it will be understood as (type, (1,)) / '(1,)type'.\n",
      "  np_resource = np.dtype([(\"resource\", np.ubyte, 1)])\n"
     ]
    }
   ],
   "source": [
    "from keras.models import Sequential\n",
    "from keras.layers import Dense\n",
    "from keras.wrappers.scikit_learn import KerasRegressor\n",
    "from sklearn.model_selection import cross_val_score\n",
    "from sklearn.model_selection import KFold\n",
    "from sklearn.preprocessing import StandardScaler\n",
    "from sklearn.pipeline import Pipeline"
   ]
  },
  {
   "cell_type": "code",
   "execution_count": 21,
   "metadata": {},
   "outputs": [
    {
     "name": "stdout",
     "output_type": "stream",
     "text": [
      "WARNING:tensorflow:From C:\\Users\\Brandon Voigt\\Anaconda3\\lib\\site-packages\\keras\\backend\\tensorflow_backend.py:422: The name tf.global_variables is deprecated. Please use tf.compat.v1.global_variables instead.\n",
      "\n"
     ]
    }
   ],
   "source": [
    "model = Sequential()\n",
    "model.add(Dense(34,input_dim = 33,kernel_initializer = 'normal',activation = 'relu' ))\n",
    "model.add(Dense(42,kernel_initializer = 'normal',activation = 'relu' ))\n",
    "model.add(Dense(1,kernel_initializer = 'normal',activation = 'linear'))\n",
    "model.compile(loss = 'mean_squared_error',optimizer = 'adam')\n",
    "model.fit(x_n, y_n, epochs=150, batch_size=10, verbose=0)\n",
    "predictions = model.predict(test_n)"
   ]
  },
  {
   "cell_type": "code",
   "execution_count": 22,
   "metadata": {},
   "outputs": [
    {
     "data": {
      "text/plain": [
       "array([[159969.38],\n",
       "       [184269.67],\n",
       "       [194279.89],\n",
       "       ...,\n",
       "       [199443.88],\n",
       "       [102187.09],\n",
       "       [250489.52]], dtype=float32)"
      ]
     },
     "execution_count": 22,
     "metadata": {},
     "output_type": "execute_result"
    }
   ],
   "source": [
    "predictions"
   ]
  },
  {
   "cell_type": "code",
   "execution_count": 23,
   "metadata": {},
   "outputs": [],
   "source": [
    "pred = predictions.reshape(1459,)"
   ]
  },
  {
   "cell_type": "code",
   "execution_count": 24,
   "metadata": {},
   "outputs": [],
   "source": [
    "test1 = pd.read_csv(\"test.csv\")"
   ]
  },
  {
   "cell_type": "code",
   "execution_count": 25,
   "metadata": {},
   "outputs": [],
   "source": [
    "output=pd.DataFrame({'Id':test1['Id'],'SalePrice':pred})\n",
    "output.to_csv(\"submission.csv\",index=False)"
   ]
  },
  {
   "cell_type": "code",
   "execution_count": null,
   "metadata": {},
   "outputs": [],
   "source": []
  }
 ],
 "metadata": {
  "kernelspec": {
   "display_name": "Python 3",
   "language": "python",
   "name": "python3"
  },
  "language_info": {
   "codemirror_mode": {
    "name": "ipython",
    "version": 3
   },
   "file_extension": ".py",
   "mimetype": "text/x-python",
   "name": "python",
   "nbconvert_exporter": "python",
   "pygments_lexer": "ipython3",
   "version": "3.7.3"
  }
 },
 "nbformat": 4,
 "nbformat_minor": 4
}
